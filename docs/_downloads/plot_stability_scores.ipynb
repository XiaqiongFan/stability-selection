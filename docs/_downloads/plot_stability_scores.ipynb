{
  "cells": [
    {
      "cell_type": "code",
      "execution_count": null,
      "metadata": {
        "collapsed": false
      },
      "outputs": [],
      "source": [
        "%matplotlib inline"
      ]
    },
    {
      "cell_type": "markdown",
      "metadata": {},
      "source": [
        "\n# Plotting stability scores\n\n\nAn example plot of the stability scores for each variable after fitting :class:`stability_selection.stability_selection.StabilitySelection`\n\n"
      ]
    },
    {
      "cell_type": "code",
      "execution_count": null,
      "metadata": {
        "collapsed": false
      },
      "outputs": [],
      "source": [
        "import numpy as np\n\nfrom sklearn.linear_model import LogisticRegression\nfrom sklearn.pipeline import Pipeline\nfrom sklearn.preprocessing import StandardScaler\nfrom sklearn.utils import check_random_state\nfrom stability_selection import StabilitySelection, plot_stability_path\n\n\ndef _generate_dummy_classification_data(p=1000, n=1000, k=5, random_state=123321):\n\n    rng = check_random_state(random_state)\n\n    X = rng.normal(loc=0.0, scale=1.0, size=(n, p))\n    betas = np.zeros(p)\n    important_betas = np.sort(rng.choice(a=np.arange(p), size=k))\n    betas[important_betas] = rng.uniform(size=k)\n\n    probs = 1 / (1 + np.exp(-1 * np.matmul(X, betas)))\n    y = (probs > 0.5).astype(int)\n\n    return X, y, important_betas\n\n\nif __name__ == '__main__':\n    n, p, k = 500, 1000, 5\n\n    X, y, important_betas = _generate_dummy_classification_data(n=n, k=k)\n\n    base_estimator = Pipeline([\n        ('scaler', StandardScaler()),\n        ('model', LogisticRegression(penalty='l1'))\n    ])\n    selector = StabilitySelection(base_estimator=base_estimator, lambda_name='model__C',\n                                  lambda_grid=np.logspace(-5, -1, 50))\n    selector.fit(X, y)\n\n    fig, ax = plot_stability_path(selector)\n    fig.show()\n\n    selected_variables = selector.get_support(indices=True)\n    selected_scores = selector.stability_scores_.max(axis=1)\n\n    print('Selected variables are:')\n    print('-----------------------')\n\n    for idx, (variable, score) in enumerate(zip(selected_variables, selected_scores[selected_variables])):\n        print('Variable %d: [%d], score %.3f' % (idx + 1, variable, score))"
      ]
    }
  ],
  "metadata": {
    "kernelspec": {
      "display_name": "Python 3",
      "language": "python",
      "name": "python3"
    },
    "language_info": {
      "codemirror_mode": {
        "name": "ipython",
        "version": 3
      },
      "file_extension": ".py",
      "mimetype": "text/x-python",
      "name": "python",
      "nbconvert_exporter": "python",
      "pygments_lexer": "ipython3",
      "version": "3.7.0"
    }
  },
  "nbformat": 4,
  "nbformat_minor": 0
}